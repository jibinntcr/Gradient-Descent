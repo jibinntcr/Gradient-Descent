{
  "nbformat": 4,
  "nbformat_minor": 0,
  "metadata": {
    "colab": {
      "provenance": []
    },
    "kernelspec": {
      "name": "python3",
      "display_name": "Python 3"
    },
    "language_info": {
      "name": "python"
    }
  },
  "cells": [
    {
      "cell_type": "code",
      "source": [
        "import numpy as np\n",
        "\n",
        "# Input coefficients from the user\n",
        "a = float(input(\"Enter the coefficient 'a': \"))\n",
        "b = float(input(\"Enter the coefficient 'b': \"))\n",
        "c = float(input(\"Enter the coefficient 'c': \"))\n",
        "d = float(input(\"Enter the coefficient 'd': \"))\n",
        "\n",
        "# Initialize x with a random value\n",
        "x = np.random.rand()\n",
        "\n",
        "# Hyperparameters for SGD\n",
        "learning_rate = 0.01\n",
        "epochs = 10000\n",
        "\n",
        "# Training loop using SGD\n",
        "for epoch in range(epochs):\n",
        "    # Calculate the cubic equation value\n",
        "    equation_value = a * x**3 + b * x**2 + c * x + d\n",
        "\n",
        "    # Calculate the gradient of the equation with respect to x\n",
        "    gradient = 3 * a * x**2 + 2 * b * x + c\n",
        "\n",
        "    # Apply ReLU to the gradient (if it's negative)\n",
        "    if gradient < 0:\n",
        "        gradient = 0\n",
        "\n",
        "    # Update x using SGD\n",
        "    x -= learning_rate * gradient\n",
        "\n",
        "    # Optional: Add a convergence check if needed\n",
        "    # For example, break the loop if the equation_value is close to zero\n",
        "\n",
        "# Print the result\n",
        "print(f\"The solution for x is approximately: {x}\")\n"
      ],
      "metadata": {
        "colab": {
          "base_uri": "https://localhost:8080/"
        },
        "id": "nq9WvIfrBlTd",
        "outputId": "e7f410f1-69a7-4e1d-e012-3b2db549cda7"
      },
      "execution_count": 2,
      "outputs": [
        {
          "output_type": "stream",
          "name": "stdout",
          "text": [
            "Enter the coefficient 'a': 2\n",
            "Enter the coefficient 'b': 3\n",
            "Enter the coefficient 'c': 1\n",
            "Enter the coefficient 'd': 2\n",
            "The solution for x is approximately: -0.21132486540518672\n"
          ]
        }
      ]
    }
  ]
}